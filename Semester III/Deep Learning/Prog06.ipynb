{
 "cells": [
  {
   "cell_type": "markdown",
   "id": "eed0fedb",
   "metadata": {},
   "source": [
    "# Prog06: Manual Backpropagation (Sigmoid, y=0.5, lr=1)"
   ]
  },
  {
   "cell_type": "code",
   "execution_count": 9,
   "id": "ea21344b",
   "metadata": {},
   "outputs": [],
   "source": [
    "import numpy as np"
   ]
  },
  {
   "cell_type": "markdown",
   "id": "12f5c9a0",
   "metadata": {},
   "source": [
    "# Assume: input x, weight w, bias b, target t, output y"
   ]
  },
  {
   "cell_type": "code",
   "execution_count": 10,
   "id": "b55a4359",
   "metadata": {},
   "outputs": [],
   "source": [
    "x = 1.0\n",
    "w = 0.5\n",
    "b = 0.0\n",
    "t = 0.5  # target\n",
    "lr = 1"
   ]
  },
  {
   "cell_type": "markdown",
   "id": "280b45c2",
   "metadata": {},
   "source": [
    "# Forward pass"
   ]
  },
  {
   "cell_type": "code",
   "execution_count": 11,
   "id": "4457d163",
   "metadata": {},
   "outputs": [],
   "source": [
    "z = w * x + b\n",
    "y = 1 / (1 + np.exp(-z))  # sigmoid"
   ]
  },
  {
   "cell_type": "markdown",
   "id": "4aefeb04",
   "metadata": {},
   "source": [
    "# Backward pass\n",
    "# Loss: L = 0.5 * (t - y)^2"
   ]
  },
  {
   "cell_type": "code",
   "execution_count": 12,
   "id": "10070498",
   "metadata": {},
   "outputs": [],
   "source": [
    "dL_dy = y - t\n",
    "dy_dz = y * (1 - y)\n",
    "dz_dw = x"
   ]
  },
  {
   "cell_type": "markdown",
   "id": "4b9a0af4",
   "metadata": {},
   "source": [
    "# Gradient"
   ]
  },
  {
   "cell_type": "code",
   "execution_count": 13,
   "id": "2431803b",
   "metadata": {},
   "outputs": [],
   "source": [
    "dL_dw = dL_dy * dy_dz * dz_dw"
   ]
  },
  {
   "cell_type": "markdown",
   "id": "c93fb560",
   "metadata": {},
   "source": [
    "# Update"
   ]
  },
  {
   "cell_type": "code",
   "execution_count": 14,
   "id": "8161d81c",
   "metadata": {},
   "outputs": [],
   "source": [
    "w_new = w - lr * dL_dw"
   ]
  },
  {
   "cell_type": "code",
   "execution_count": 15,
   "id": "5cb98e0b",
   "metadata": {},
   "outputs": [
    {
     "name": "stdout",
     "output_type": "stream",
     "text": [
      "Backward pass: dL/dw=0.02877839742616038, updated w=0.4712216025738396\n"
     ]
    }
   ],
   "source": [
    "print(f\"Backward pass: dL/dw={dL_dw}, updated w={w_new}\")"
   ]
  }
 ],
 "metadata": {
  "kernelspec": {
   "display_name": "Python 3",
   "language": "python",
   "name": "python3"
  },
  "language_info": {
   "codemirror_mode": {
    "name": "ipython",
    "version": 3
   },
   "file_extension": ".py",
   "mimetype": "text/x-python",
   "name": "python",
   "nbconvert_exporter": "python",
   "pygments_lexer": "ipython3",
   "version": "3.12.2"
  }
 },
 "nbformat": 4,
 "nbformat_minor": 5
}
