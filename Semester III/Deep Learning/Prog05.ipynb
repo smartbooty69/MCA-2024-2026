{
 "cells": [
  {
   "cell_type": "markdown",
   "id": "96465995",
   "metadata": {},
   "source": [
    "# Prog05: Madaline for XOR with bipolar inputs/targets"
   ]
  },
  {
   "cell_type": "code",
   "execution_count": null,
   "id": "4502df41",
   "metadata": {},
   "outputs": [],
   "source": [
    "import numpy as np"
   ]
  },
  {
   "cell_type": "markdown",
   "id": "1d1ec0e9",
   "metadata": {},
   "source": [
    "# Bipolar inputs and targets for XOR"
   ]
  },
  {
   "cell_type": "code",
   "execution_count": null,
   "id": "b8aa17c1",
   "metadata": {},
   "outputs": [],
   "source": [
    "X = np.array([[-1,-1], [-1,1], [1,-1], [1,1]])\n",
    "Y = np.array([-1, 1, 1, -1])"
   ]
  },
  {
   "cell_type": "markdown",
   "id": "19505596",
   "metadata": {},
   "source": [
    "# Madaline: 2 Adaline in hidden, 1 output neuron\n",
    "# Initialize weights and biases"
   ]
  },
  {
   "cell_type": "code",
   "execution_count": null,
   "id": "269d39e6",
   "metadata": {},
   "outputs": [],
   "source": [
    "np.random.seed(42)\n",
    "w1 = np.random.randn(2)\n",
    "b1 = np.random.randn()\n",
    "w2 = np.random.randn(2)\n",
    "b2 = np.random.randn()\n",
    "wo = np.random.randn(2)\n",
    "bo = np.random.randn()\n",
    "lr = 0.1\n",
    "epochs = 20"
   ]
  },
  {
   "cell_type": "code",
   "execution_count": null,
   "id": "b8dfba17",
   "metadata": {},
   "outputs": [],
   "source": [
    "def sign(x):\n",
    "    return 1 if x >= 0 else -1"
   ]
  },
  {
   "cell_type": "code",
   "execution_count": null,
   "id": "49ab5631",
   "metadata": {},
   "outputs": [],
   "source": [
    "print(\"Training Madaline for XOR (bipolar):\")\n",
    "for epoch in range(epochs):\n",
    "    for i in range(len(X)):\n",
    "        x = X[i]\n",
    "        y = Y[i]\n",
    "        # Hidden layer outputs\n",
    "        h1 = sign(np.dot(w1, x) + b1)\n",
    "        h2 = sign(np.dot(w2, x) + b2)\n",
    "        h = np.array([h1, h2])\n",
    "        # Output neuron\n",
    "        y_pred = sign(np.dot(wo, h) + bo)\n",
    "        # Update only if error\n",
    "        if y_pred != y:\n",
    "            # Update output weights\n",
    "            wo += lr * (y - y_pred) * h\n",
    "            bo += lr * (y - y_pred)\n",
    "            # Update hidden weights (Madaline Rule I: update only the hidden unit(s) that contribute to error)\n",
    "            if y != y_pred:\n",
    "                # Flip the hidden unit that, if flipped, would reduce the error\n",
    "                if h1 != y:\n",
    "                    w1 += lr * (y - h1) * x\n",
    "                    b1 += lr * (y - h1)\n",
    "                if h2 != y:\n",
    "                    w2 += lr * (y - h2) * x\n",
    "                    b2 += lr * (y - h2)\n",
    "    # Print weights after each epoch\n",
    "    print(f\"Epoch {epoch+1}: wo={wo}, bo={bo}, w1={w1}, b1={b1}, w2={w2}, b2={b2}\")"
   ]
  },
  {
   "cell_type": "markdown",
   "id": "4514a7dd",
   "metadata": {},
   "source": [
    "# Test"
   ]
  },
  {
   "cell_type": "code",
   "execution_count": null,
   "id": "ac8735f5",
   "metadata": {},
   "outputs": [],
   "source": [
    "print(\"\\nTesting Madaline XOR:\")\n",
    "for x in X:\n",
    "    h1 = sign(np.dot(w1, x) + b1)\n",
    "    h2 = sign(np.dot(w2, x) + b2)\n",
    "    h = np.array([h1, h2])\n",
    "    y_pred = sign(np.dot(wo, h) + bo)\n",
    "    print(f\"Input: {x}, Output: {y_pred}\")"
   ]
  }
 ],
 "metadata": {
  "language_info": {
   "name": "python"
  }
 },
 "nbformat": 4,
 "nbformat_minor": 5
}
