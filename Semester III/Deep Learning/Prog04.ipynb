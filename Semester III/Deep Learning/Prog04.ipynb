{
 "cells": [
  {
   "cell_type": "markdown",
   "id": "40ff763c-0aa4-465d-a8b1-3aa49b2acd93",
   "metadata": {},
   "source": [
    "# Prog04: Adaline for AND Gate"
   ]
  },
  {
   "cell_type": "code",
   "execution_count": null,
   "id": "8d5c3d48",
   "metadata": {},
   "outputs": [],
   "source": [
    "import numpy as np"
   ]
  },
  {
   "cell_type": "markdown",
   "id": "d150ab10",
   "metadata": {},
   "source": [
    "# Inputs and targets"
   ]
  },
  {
   "cell_type": "code",
   "execution_count": null,
   "id": "2549606b",
   "metadata": {},
   "outputs": [],
   "source": [
    "X = np.array([[0,0],[0,1],[1,0],[1,1]])\n",
    "Y = np.array([0,0,0,1])"
   ]
  },
  {
   "cell_type": "markdown",
   "id": "6b4d94f5",
   "metadata": {},
   "source": [
    "# Initialize weights and bias"
   ]
  },
  {
   "cell_type": "code",
   "execution_count": null,
   "id": "8151d094",
   "metadata": {},
   "outputs": [],
   "source": [
    "w = np.zeros(2)\n",
    "b = 0\n",
    "lr = 0.1\n",
    "epochs = 10"
   ]
  },
  {
   "cell_type": "code",
   "execution_count": null,
   "id": "3581debf",
   "metadata": {},
   "outputs": [],
   "source": [
    "print(\"Epoch-wise weight updates:\")\n",
    "for epoch in range(epochs):\n",
    "    print(f\"\\nEpoch {epoch+1}\")\n",
    "    for i in range(len(X)):\n",
    "        x = X[i]\n",
    "        y = Y[i]\n",
    "        y_pred = np.dot(w, x) + b\n",
    "        error = y - y_pred\n",
    "        w += lr * error * x\n",
    "        b += lr * error\n",
    "        print(f\"Input: {x}, Target: {y}, Predicted: {y_pred:.2f}, Weights: {w}, Bias: {b}\")"
   ]
  }
 ],
 "metadata": {
  "kernelspec": {
   "display_name": "Python 3 (ipykernel)",
   "language": "python",
   "name": "python3"
  },
  "language_info": {
   "codemirror_mode": {
    "name": "ipython",
    "version": 3
   },
   "file_extension": ".py",
   "mimetype": "text/x-python",
   "name": "python",
   "nbconvert_exporter": "python",
   "pygments_lexer": "ipython3",
   "version": "3.12.2"
  }
 },
 "nbformat": 4,
 "nbformat_minor": 5
}
