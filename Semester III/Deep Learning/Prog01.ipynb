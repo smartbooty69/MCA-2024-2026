{
 "cells": [
  {
   "cell_type": "markdown",
   "id": "6cc70b12",
   "metadata": {},
   "source": [
    "# Prog01: McCulloch-Pitts Neuron Model for AND Gate"
   ]
  },
  {
   "cell_type": "code",
   "execution_count": 1,
   "id": "59fda211",
   "metadata": {},
   "outputs": [],
   "source": [
    "def mp_neuron_AND(x1, x2):\n",
    "    # Weights and threshold for AND gate\n",
    "    w1, w2 = 1, 1\n",
    "    threshold = 2\n",
    "    summation = w1 * x1 + w2 * x2\n",
    "    output = 1 if summation >= threshold else 0\n",
    "    return output"
   ]
  },
  {
   "cell_type": "markdown",
   "id": "f69fa651",
   "metadata": {},
   "source": [
    "# Test all input combinations\n"
   ]
  },
  {
   "cell_type": "code",
   "execution_count": 2,
   "id": "2caf365f",
   "metadata": {},
   "outputs": [
    {
     "name": "stdout",
     "output_type": "stream",
     "text": [
      "MP Neuron AND Gate Simulation:\n",
      "Input: (0, 0), Output: 0\n",
      "Input: (0, 1), Output: 0\n",
      "Input: (1, 0), Output: 0\n",
      "Input: (1, 1), Output: 1\n"
     ]
    }
   ],
   "source": [
    "inputs = [(0,0), (0,1), (1,0), (1,1)]\n",
    "print(\"MP Neuron AND Gate Simulation:\")\n",
    "for x in inputs:\n",
    "    print(f\"Input: {x}, Output: {mp_neuron_AND(x[0], x[1])}\")"
   ]
  }
 ],
 "metadata": {
  "kernelspec": {
   "display_name": "Python 3",
   "language": "python",
   "name": "python3"
  },
  "language_info": {
   "codemirror_mode": {
    "name": "ipython",
    "version": 3
   },
   "file_extension": ".py",
   "mimetype": "text/x-python",
   "name": "python",
   "nbconvert_exporter": "python",
   "pygments_lexer": "ipython3",
   "version": "3.12.2"
  }
 },
 "nbformat": 4,
 "nbformat_minor": 5
}
