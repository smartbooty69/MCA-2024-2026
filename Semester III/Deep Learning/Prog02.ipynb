{
 "cells": [
  {
   "cell_type": "markdown",
   "id": "f8355a50",
   "metadata": {},
   "source": [
    "# Prog02: Hebbian Learning Rule for AND Gate"
   ]
  },
  {
   "cell_type": "code",
   "execution_count": 1,
   "id": "aec4e6e9",
   "metadata": {},
   "outputs": [],
   "source": [
    "import numpy as np"
   ]
  },
  {
   "cell_type": "markdown",
   "id": "66fde126",
   "metadata": {},
   "source": [
    "# Inputs and targets for AND gate"
   ]
  },
  {
   "cell_type": "code",
   "execution_count": 2,
   "id": "291d92b2",
   "metadata": {},
   "outputs": [],
   "source": [
    "X = np.array([[0,0],[0,1],[1,0],[1,1]])\n",
    "Y = np.array([0,0,0,1])"
   ]
  },
  {
   "cell_type": "markdown",
   "id": "3dc5f713",
   "metadata": {},
   "source": [
    "# Initialize weights and bias"
   ]
  },
  {
   "cell_type": "code",
   "execution_count": 3,
   "id": "5c71125d",
   "metadata": {},
   "outputs": [],
   "source": [
    "w = np.zeros(2)\n",
    "b = 0"
   ]
  },
  {
   "cell_type": "markdown",
   "id": "123be56c",
   "metadata": {},
   "source": [
    "# Hebbian learning"
   ]
  },
  {
   "cell_type": "code",
   "execution_count": 4,
   "id": "d7a1ed28",
   "metadata": {},
   "outputs": [],
   "source": [
    "for i in range(len(X)):\n",
    "    w += X[i] * Y[i]\n",
    "    b += Y[i]"
   ]
  },
  {
   "cell_type": "code",
   "execution_count": 5,
   "id": "cc408a1d",
   "metadata": {},
   "outputs": [
    {
     "name": "stdout",
     "output_type": "stream",
     "text": [
      "Final weights: [1. 1.]\n",
      "Final bias: 1\n"
     ]
    }
   ],
   "source": [
    "print(\"Final weights:\", w)\n",
    "print(\"Final bias:\", b)"
   ]
  }
 ],
 "metadata": {
  "kernelspec": {
   "display_name": "Python 3",
   "language": "python",
   "name": "python3"
  },
  "language_info": {
   "codemirror_mode": {
    "name": "ipython",
    "version": 3
   },
   "file_extension": ".py",
   "mimetype": "text/x-python",
   "name": "python",
   "nbconvert_exporter": "python",
   "pygments_lexer": "ipython3",
   "version": "3.12.2"
  }
 },
 "nbformat": 4,
 "nbformat_minor": 5
}
