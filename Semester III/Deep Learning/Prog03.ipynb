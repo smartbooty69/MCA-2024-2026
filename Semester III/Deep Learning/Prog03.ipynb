{
 "cells": [
  {
   "cell_type": "markdown",
   "id": "557d951f",
   "metadata": {},
   "source": [
    "# Prog03: Perceptron for AND Gate"
   ]
  },
  {
   "cell_type": "code",
   "execution_count": null,
   "id": "d7b88a4c",
   "metadata": {},
   "outputs": [],
   "source": [
    "import numpy as np"
   ]
  },
  {
   "cell_type": "markdown",
   "id": "d396d867",
   "metadata": {},
   "source": [
    "# Inputs and targets"
   ]
  },
  {
   "cell_type": "code",
   "execution_count": null,
   "id": "a7f0d54d",
   "metadata": {},
   "outputs": [],
   "source": [
    "X = np.array([[0,0],[0,1],[1,0],[1,1]])\n",
    "Y = np.array([0,0,0,1])"
   ]
  },
  {
   "cell_type": "markdown",
   "id": "481c273e",
   "metadata": {},
   "source": [
    "# Initialize weights and bias"
   ]
  },
  {
   "cell_type": "code",
   "execution_count": null,
   "id": "4a3974ca",
   "metadata": {},
   "outputs": [],
   "source": [
    "w = np.zeros(2)\n",
    "b = 0\n",
    "lr = 1\n",
    "epochs = 5"
   ]
  },
  {
   "cell_type": "code",
   "execution_count": null,
   "id": "4bcb6988",
   "metadata": {},
   "outputs": [],
   "source": [
    "def step(x):\n",
    "    return 1 if x >= 0 else 0"
   ]
  },
  {
   "cell_type": "code",
   "execution_count": null,
   "id": "eea34346",
   "metadata": {},
   "outputs": [],
   "source": [
    "print(\"Epoch-wise weight updates:\")\n",
    "for epoch in range(epochs):\n",
    "    print(f\"\\nEpoch {epoch+1}\")\n",
    "    for i in range(len(X)):\n",
    "        x = X[i]\n",
    "        y = Y[i]\n",
    "        y_pred = step(np.dot(w, x) + b)\n",
    "        error = y - y_pred\n",
    "        w += lr * error * x\n",
    "        b += lr * error\n",
    "        print(f\"Input: {x}, Target: {y}, Predicted: {y_pred}, Weights: {w}, Bias: {b}\")"
   ]
  }
 ],
 "metadata": {
  "language_info": {
   "name": "python"
  }
 },
 "nbformat": 4,
 "nbformat_minor": 5
}
